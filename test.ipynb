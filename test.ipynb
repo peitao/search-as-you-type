{
  "nbformat": 4,
  "nbformat_minor": 0,
  "metadata": {
    "colab": {
      "provenance": [],
      "authorship_tag": "ABX9TyNWp+1WYhwGWuWLkw/jshiS",
      "include_colab_link": true
    },
    "kernelspec": {
      "name": "python3",
      "display_name": "Python 3"
    },
    "language_info": {
      "name": "python"
    },
    "accelerator": "GPU",
    "gpuClass": "standard"
  },
  "cells": [
    {
      "cell_type": "markdown",
      "metadata": {
        "id": "view-in-github",
        "colab_type": "text"
      },
      "source": [
        "<a href=\"https://colab.research.google.com/github/peitao/search-as-you-type/blob/master/test.ipynb\" target=\"_parent\"><img src=\"https://colab.research.google.com/assets/colab-badge.svg\" alt=\"Open In Colab\"/></a>"
      ]
    },
    {
      "cell_type": "code",
      "execution_count": 1,
      "metadata": {
        "id": "DZx2D6KR2ht-"
      },
      "outputs": [],
      "source": [
        "import torch"
      ]
    },
    {
      "cell_type": "code",
      "source": [
        "!nvidia-smi"
      ],
      "metadata": {
        "colab": {
          "base_uri": "https://localhost:8080/"
        },
        "id": "jBYQAQ9B2usD",
        "outputId": "55a1a09a-dd87-4807-8f3e-c0ac4b1679aa"
      },
      "execution_count": 2,
      "outputs": [
        {
          "output_type": "stream",
          "name": "stdout",
          "text": [
            "Fri Apr 14 13:01:37 2023       \n",
            "+-----------------------------------------------------------------------------+\n",
            "| NVIDIA-SMI 525.85.12    Driver Version: 525.85.12    CUDA Version: 12.0     |\n",
            "|-------------------------------+----------------------+----------------------+\n",
            "| GPU  Name        Persistence-M| Bus-Id        Disp.A | Volatile Uncorr. ECC |\n",
            "| Fan  Temp  Perf  Pwr:Usage/Cap|         Memory-Usage | GPU-Util  Compute M. |\n",
            "|                               |                      |               MIG M. |\n",
            "|===============================+======================+======================|\n",
            "|   0  Tesla T4            Off  | 00000000:00:04.0 Off |                    0 |\n",
            "| N/A   63C    P8    11W /  70W |      0MiB / 15360MiB |      0%      Default |\n",
            "|                               |                      |                  N/A |\n",
            "+-------------------------------+----------------------+----------------------+\n",
            "                                                                               \n",
            "+-----------------------------------------------------------------------------+\n",
            "| Processes:                                                                  |\n",
            "|  GPU   GI   CI        PID   Type   Process name                  GPU Memory |\n",
            "|        ID   ID                                                   Usage      |\n",
            "|=============================================================================|\n",
            "|  No running processes found                                                 |\n",
            "+-----------------------------------------------------------------------------+\n"
          ]
        }
      ]
    },
    {
      "cell_type": "code",
      "source": [
        "import torchrec"
      ],
      "metadata": {
        "id": "LbdJfXgL3DGu"
      },
      "execution_count": 4,
      "outputs": []
    },
    {
      "cell_type": "code",
      "source": [
        "from torchrec.models.dlrm import DLRM\n",
        "from torchrec.modules.embedding_configs import EmbeddingBagConfig\n",
        "from torchrec import EmbeddingBagCollection\n",
        "from torchrec.sparse.jagged_tensor import KeyedJaggedTensor, KeyedTensor"
      ],
      "metadata": {
        "id": "rct22oNv3KIs"
      },
      "execution_count": 23,
      "outputs": []
    },
    {
      "cell_type": "code",
      "source": [
        "B = 2\n",
        "D = 8"
      ],
      "metadata": {
        "id": "UlxHTzZr4Bye"
      },
      "execution_count": 10,
      "outputs": []
    },
    {
      "cell_type": "code",
      "source": [
        "eb1_config = EmbeddingBagConfig(\n",
        "           name=\"t1\", embedding_dim=D, num_embeddings=100, feature_names=[\"f1\", \"f3\"]\n",
        "        )"
      ],
      "metadata": {
        "id": "4yBRwP1m4Ny7"
      },
      "execution_count": 11,
      "outputs": []
    },
    {
      "cell_type": "code",
      "source": [
        "eb2_config = EmbeddingBagConfig(\n",
        "           name=\"t2\",\n",
        "           embedding_dim=D,\n",
        "           num_embeddings=100,\n",
        "           feature_names=[\"f2\"],\n",
        "        )"
      ],
      "metadata": {
        "id": "BTbMS3pW4RU_"
      },
      "execution_count": 12,
      "outputs": []
    },
    {
      "cell_type": "code",
      "source": [
        "ebc = EmbeddingBagCollection(tables=[eb1_config])"
      ],
      "metadata": {
        "id": "MXPopPnh4ReW"
      },
      "execution_count": 27,
      "outputs": []
    },
    {
      "cell_type": "code",
      "source": [
        "model = DLRM(\n",
        "           embedding_bag_collection=ebc,\n",
        "           dense_in_features=100,\n",
        "           dense_arch_layer_sizes=[8], # change to 8 is ok \n",
        "           over_arch_layer_sizes=[5, 1],\n",
        "        )"
      ],
      "metadata": {
        "id": "oWhH35kf4lyE"
      },
      "execution_count": 28,
      "outputs": []
    },
    {
      "cell_type": "code",
      "source": [
        "features = torch.rand((B, 100))"
      ],
      "metadata": {
        "id": "2oyoGK2A5gBs"
      },
      "execution_count": 21,
      "outputs": []
    },
    {
      "cell_type": "code",
      "source": [
        "sparse_features = KeyedJaggedTensor.from_offsets_sync(\n",
        "           keys=[\"f1\", \"f3\"],\n",
        "           values=torch.tensor([1, 2, 4, 5, 4, 3, 2, 9]),\n",
        "           offsets=torch.tensor([0, 2, 4, 6, 8]),\n",
        "        )"
      ],
      "metadata": {
        "id": "cfNkQFLa5pEp"
      },
      "execution_count": 25,
      "outputs": []
    },
    {
      "cell_type": "code",
      "source": [
        "logits = model(\n",
        "           dense_features=features,\n",
        "           sparse_features=sparse_features,\n",
        "        )\n",
        "logits"
      ],
      "metadata": {
        "colab": {
          "base_uri": "https://localhost:8080/"
        },
        "id": "wljuH6dM6Gow",
        "outputId": "dd3b6ac7-805d-495d-f11c-95aa10e2230d"
      },
      "execution_count": 29,
      "outputs": [
        {
          "output_type": "execute_result",
          "data": {
            "text/plain": [
              "tensor([[-0.1412],\n",
              "        [ 0.2088]], grad_fn=<AddmmBackward0>)"
            ]
          },
          "metadata": {},
          "execution_count": 29
        }
      ]
    }
  ]
}